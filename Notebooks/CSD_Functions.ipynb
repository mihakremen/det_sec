{
  "nbformat": 4,
  "nbformat_minor": 0,
  "metadata": {
    "colab": {
      "provenance": [],
      "collapsed_sections": []
    },
    "kernelspec": {
      "name": "python3",
      "display_name": "Python 3"
    },
    "language_info": {
      "name": "python"
    }
  },
  "cells": [
    {
      "cell_type": "markdown",
      "source": [
        "#Импорт библиотек"
      ],
      "metadata": {
        "id": "Vimj2h2i-qUE"
      }
    },
    {
      "cell_type": "code",
      "source": [
        "import nltk\n",
        "import string\n",
        "import csv\n",
        "import pandas as pd\n",
        "from google.colab import files \n",
        "nltk.download('punkt')"
      ],
      "metadata": {
        "colab": {
          "base_uri": "https://localhost:8080/"
        },
        "id": "YMoPqqhCEcaQ",
        "outputId": "468dda07-4e3a-4990-c114-498cfb30282d"
      },
      "execution_count": 174,
      "outputs": [
        {
          "output_type": "stream",
          "name": "stderr",
          "text": [
            "[nltk_data] Downloading package punkt to /root/nltk_data...\n",
            "[nltk_data]   Package punkt is already up-to-date!\n"
          ]
        },
        {
          "output_type": "execute_result",
          "data": {
            "text/plain": [
              "True"
            ]
          },
          "metadata": {},
          "execution_count": 174
        }
      ]
    },
    {
      "cell_type": "markdown",
      "source": [
        "#Функция токенезациии\n",
        "На вход поступает текст кода --> на выход возвращается массив токенов слова"
      ],
      "metadata": {
        "id": "G92p3I-D-tmU"
      }
    },
    {
      "cell_type": "code",
      "source": [
        "def tokenization(filename):\n",
        "    #file = csv.reader(open(filename, encoding=\"utf8\"), delimiter=\",\")\n",
        "    tokens = []\n",
        "    #разбивка на токены:\n",
        "    #for line in filename:\n",
        "    tokens += nltk.word_tokenize(str(filename))\n",
        "    #очистка от знаков препинания:\n",
        "    tokens = [i for i in tokens if (i not in string.punctuation)]\n",
        "    #очистка от мусора:\n",
        "    tokens = [i.replace(\"'\", \"\").replace(\"`\", \"\").replace(\"=\", \"\").replace(\"/\", \"\").replace(\"\\\\\", \"\").replace(\"-\", \"\").replace(\":\", \"\").replace(\"|\", \"\") for i in tokens]\n",
        "    #очистка от пустых элементов и элементов длинной <= 2:\n",
        "    tokens = [i for i in tokens if len(i) >3]\n",
        "    return tokens"
      ],
      "metadata": {
        "id": "XaVAxlJsbtPN"
      },
      "execution_count": 175,
      "outputs": []
    },
    {
      "cell_type": "markdown",
      "source": [
        "###Пример работы\n",
        "\n"
      ],
      "metadata": {
        "id": "n94jr5iPAj45"
      }
    },
    {
      "cell_type": "code",
      "source": [
        "a = '{//! [0]QSqlDatabase db = QSqlDatabase::addDatabase(\"QPSQL\") Teddy1 ;db.setHostName(\"acidalia\");db.setDatabaseName(\"customdb\");db.setUserName(\"mojito\");db.setPassword(\"\");bool ok = db.open();//! [0]Q_UNUSED(ok);}{//! [1]'\n",
        "context = tokenization(a)\n",
        "context"
      ],
      "metadata": {
        "colab": {
          "base_uri": "https://localhost:8080/"
        },
        "id": "OFhj6I7eA166",
        "outputId": "5d6167de-fb62-4600-ddfc-494de67fb0e7"
      },
      "execution_count": 183,
      "outputs": [
        {
          "output_type": "execute_result",
          "data": {
            "text/plain": [
              "['QSqlDatabase',\n",
              " 'QSqlDatabase',\n",
              " 'addDatabase',\n",
              " 'QPSQL',\n",
              " 'Teddy1',\n",
              " 'db.setHostName',\n",
              " 'acidalia',\n",
              " 'db.setDatabaseName',\n",
              " 'customdb',\n",
              " 'db.setUserName',\n",
              " 'mojito',\n",
              " 'db.setPassword',\n",
              " 'bool',\n",
              " 'db.open',\n",
              " 'Q_UNUSED']"
            ]
          },
          "metadata": {},
          "execution_count": 183
        }
      ]
    },
    {
      "cell_type": "markdown",
      "source": [
        "#Функция составления окружения\n",
        "На вход поступают:\n",
        "* password - потенциальный пароль (полученный из морфологической ML модели)\n",
        "* context - текст кода, в которох находится password\n",
        "* ntokens_max - количество слов окружения в одну и другую сторону.\n",
        "\n",
        "На выходе возвращается массив окружения пароля длиной 2n токенов.\n",
        "\n",
        "\n"
      ],
      "metadata": {
        "id": "vmFTssKc-xiS"
      }
    },
    {
      "cell_type": "code",
      "execution_count": 181,
      "metadata": {
        "id": "Qt3s80AaD51O"
      },
      "outputs": [],
      "source": [
        "def insertion_pass(password, context, ntokens_max = 10):\n",
        "  result = []\n",
        "  for i in context:\n",
        "\n",
        "    if i == password:\n",
        "\n",
        "      #вперед\n",
        "\n",
        "      if (len(context) - context.index(i)) <= ntokens_max:\n",
        "        ntokens_f = len(context) - context.index(i) - 1\n",
        "      else:\n",
        "        ntokens_f = ntokens_max\n",
        "\n",
        "      count_forward = context.index(i) + 1\n",
        "\n",
        "      for j in range(ntokens_f):\n",
        "        result.append(context[count_forward])\n",
        "        count_forward += 1\n",
        "\n",
        "      #назад\n",
        "\n",
        "      if context.index(i) < ntokens_max:\n",
        "        ntokens_b = context.index(i)\n",
        "      else:\n",
        "        ntokens_b = ntokens_max\n",
        "        \n",
        "      count_backward = context.index(i) - 1\n",
        "\n",
        "      for j in range(ntokens_b):\n",
        "        result.insert(0, context[count_backward])\n",
        "        count_backward -= 1\n",
        "\n",
        "  return result"
      ]
    },
    {
      "cell_type": "markdown",
      "source": [
        "###Пример работы"
      ],
      "metadata": {
        "id": "JuPVdXlyA6T2"
      }
    },
    {
      "cell_type": "code",
      "source": [
        "a = '{//! [0]QSqlDatabase db = QSqlDatabase::addDatabase(\"QPSQL\") Teddy1 ;db.setHostName(\"acidalia\");db.setDatabaseName(\"customdb\");db.setUserName(\"mojito\");db.setPassword(\"\");bool ok = db.open();//! [0]Q_UNUSED(ok);}{//! [1]'\n",
        "password = 'Teddy1'\n",
        "context = tokenization(a)\n",
        "print(insertion_pass(password, context, 10))"
      ],
      "metadata": {
        "colab": {
          "base_uri": "https://localhost:8080/"
        },
        "id": "hP3Ip0qEA81E",
        "outputId": "87349b31-2243-4956-d819-ecdcbe5911a0"
      },
      "execution_count": 186,
      "outputs": [
        {
          "output_type": "stream",
          "name": "stdout",
          "text": [
            "['QSqlDatabase', 'QSqlDatabase', 'addDatabase', 'QPSQL', 'db.setHostName', 'acidalia', 'db.setDatabaseName', 'customdb', 'db.setUserName', 'mojito', 'db.setPassword', 'bool', 'db.open', 'Q_UNUSED']\n"
          ]
        }
      ]
    },
    {
      "cell_type": "markdown",
      "source": [
        "#Функция определения позиции пароля\n",
        "На вход поступает датафрейм после работы морфологической ML модели --> На выходе возвращается датафрейм содержащий контекст потенциального пароля."
      ],
      "metadata": {
        "id": "Y7xBMpp8-6jy"
      }
    },
    {
      "cell_type": "code",
      "source": [
        "def Position_Determination(dataframe):\n",
        "  test_data = dataframe['Input'][dataframe['Target'] == 1].tolist()\n",
        "  massive_pass = []\n",
        "  for i in test_data:\n",
        "    for j in insertion_pass(i, context, 10):\n",
        "        massive_pass.append(j)\n",
        "  stroka = [' '.join(massive_pass)]\n",
        "  return pd.DataFrame(stroka)"
      ],
      "metadata": {
        "id": "sXjmnnMt9J8W"
      },
      "execution_count": 179,
      "outputs": []
    },
    {
      "cell_type": "markdown",
      "source": [
        "###Пример работы"
      ],
      "metadata": {
        "id": "EGlixk8iBn9m"
      }
    },
    {
      "cell_type": "code",
      "source": [
        "a = '{//! [0]QSqlDatabase db = QSqlDatabase::addDatabase(\"QPSQL\") Teddy1 ;db.setHostName(\"acidalia\");db.setDatabaseName(\"customdb\");db.setUserName(\"mojito\");db.setPassword(\"\");bool ok = db.open();//! [0]Q_UNUSED(ok);}{//! [1]'\n",
        "context = tokenization(a)\n",
        "df = pd.read_csv('https://www.dropbox.com/s/ny23cfp6b6pb6aa/password_dataset.csv?dl=1')\n",
        "Position_Determination(df)"
      ],
      "metadata": {
        "id": "RetZKO4KBqg4"
      },
      "execution_count": null,
      "outputs": []
    },
    {
      "cell_type": "code",
      "source": [
        "df = pd.read_csv('https://www.dropbox.com/s/ny23cfp6b6pb6aa/password_dataset.csv?dl=1')\n",
        "df"
      ],
      "metadata": {
        "colab": {
          "base_uri": "https://localhost:8080/",
          "height": 424
        },
        "id": "v_y-fpbCcNJI",
        "outputId": "3c26308d-3408-4804-eff2-c5c274011d16"
      },
      "execution_count": 191,
      "outputs": [
        {
          "output_type": "execute_result",
          "data": {
            "text/plain": [
              "                  Input  Length  Uppercase  Lowercase  Digits  Special  \\\n",
              "0           Usuckballz1      11       0.09       0.82    0.09     0.00   \n",
              "1           Soso123aljg      11       0.09       0.64    0.27     0.00   \n",
              "2       Mailcreated5240      15       0.07       0.67    0.27     0.00   \n",
              "3              Passw0rd       8       0.12       0.75    0.12     0.00   \n",
              "4              8J4yE3Uz       8       0.38       0.25    0.38     0.00   \n",
              "...                 ...     ...        ...        ...     ...      ...   \n",
              "981960  T7177306a.javan      15       0.07       0.40    0.47     0.07   \n",
              "981961         bytes_in       8       0.00       0.88    0.00     0.12   \n",
              "981962      packets_out      11       0.00       0.91    0.00     0.09   \n",
              "981963          nnuart1       7       0.00       0.86    0.14     0.00   \n",
              "981964      allnsystems      11       0.00       1.00    0.00     0.00   \n",
              "\n",
              "        Entropy  Target  \n",
              "0          2.14       1  \n",
              "1          2.44       1  \n",
              "2          3.32       1  \n",
              "3          1.60       1  \n",
              "4          1.90       1  \n",
              "...         ...     ...  \n",
              "981960     3.75       0  \n",
              "981961     1.42       0  \n",
              "981962     1.96       0  \n",
              "981963     1.42       0  \n",
              "981964     1.99       0  \n",
              "\n",
              "[981965 rows x 8 columns]"
            ],
            "text/html": [
              "\n",
              "  <div id=\"df-2fbebb12-f258-4909-bbfd-6d170b5cc62e\">\n",
              "    <div class=\"colab-df-container\">\n",
              "      <div>\n",
              "<style scoped>\n",
              "    .dataframe tbody tr th:only-of-type {\n",
              "        vertical-align: middle;\n",
              "    }\n",
              "\n",
              "    .dataframe tbody tr th {\n",
              "        vertical-align: top;\n",
              "    }\n",
              "\n",
              "    .dataframe thead th {\n",
              "        text-align: right;\n",
              "    }\n",
              "</style>\n",
              "<table border=\"1\" class=\"dataframe\">\n",
              "  <thead>\n",
              "    <tr style=\"text-align: right;\">\n",
              "      <th></th>\n",
              "      <th>Input</th>\n",
              "      <th>Length</th>\n",
              "      <th>Uppercase</th>\n",
              "      <th>Lowercase</th>\n",
              "      <th>Digits</th>\n",
              "      <th>Special</th>\n",
              "      <th>Entropy</th>\n",
              "      <th>Target</th>\n",
              "    </tr>\n",
              "  </thead>\n",
              "  <tbody>\n",
              "    <tr>\n",
              "      <th>0</th>\n",
              "      <td>Usuckballz1</td>\n",
              "      <td>11</td>\n",
              "      <td>0.09</td>\n",
              "      <td>0.82</td>\n",
              "      <td>0.09</td>\n",
              "      <td>0.00</td>\n",
              "      <td>2.14</td>\n",
              "      <td>1</td>\n",
              "    </tr>\n",
              "    <tr>\n",
              "      <th>1</th>\n",
              "      <td>Soso123aljg</td>\n",
              "      <td>11</td>\n",
              "      <td>0.09</td>\n",
              "      <td>0.64</td>\n",
              "      <td>0.27</td>\n",
              "      <td>0.00</td>\n",
              "      <td>2.44</td>\n",
              "      <td>1</td>\n",
              "    </tr>\n",
              "    <tr>\n",
              "      <th>2</th>\n",
              "      <td>Mailcreated5240</td>\n",
              "      <td>15</td>\n",
              "      <td>0.07</td>\n",
              "      <td>0.67</td>\n",
              "      <td>0.27</td>\n",
              "      <td>0.00</td>\n",
              "      <td>3.32</td>\n",
              "      <td>1</td>\n",
              "    </tr>\n",
              "    <tr>\n",
              "      <th>3</th>\n",
              "      <td>Passw0rd</td>\n",
              "      <td>8</td>\n",
              "      <td>0.12</td>\n",
              "      <td>0.75</td>\n",
              "      <td>0.12</td>\n",
              "      <td>0.00</td>\n",
              "      <td>1.60</td>\n",
              "      <td>1</td>\n",
              "    </tr>\n",
              "    <tr>\n",
              "      <th>4</th>\n",
              "      <td>8J4yE3Uz</td>\n",
              "      <td>8</td>\n",
              "      <td>0.38</td>\n",
              "      <td>0.25</td>\n",
              "      <td>0.38</td>\n",
              "      <td>0.00</td>\n",
              "      <td>1.90</td>\n",
              "      <td>1</td>\n",
              "    </tr>\n",
              "    <tr>\n",
              "      <th>...</th>\n",
              "      <td>...</td>\n",
              "      <td>...</td>\n",
              "      <td>...</td>\n",
              "      <td>...</td>\n",
              "      <td>...</td>\n",
              "      <td>...</td>\n",
              "      <td>...</td>\n",
              "      <td>...</td>\n",
              "    </tr>\n",
              "    <tr>\n",
              "      <th>981960</th>\n",
              "      <td>T7177306a.javan</td>\n",
              "      <td>15</td>\n",
              "      <td>0.07</td>\n",
              "      <td>0.40</td>\n",
              "      <td>0.47</td>\n",
              "      <td>0.07</td>\n",
              "      <td>3.75</td>\n",
              "      <td>0</td>\n",
              "    </tr>\n",
              "    <tr>\n",
              "      <th>981961</th>\n",
              "      <td>bytes_in</td>\n",
              "      <td>8</td>\n",
              "      <td>0.00</td>\n",
              "      <td>0.88</td>\n",
              "      <td>0.00</td>\n",
              "      <td>0.12</td>\n",
              "      <td>1.42</td>\n",
              "      <td>0</td>\n",
              "    </tr>\n",
              "    <tr>\n",
              "      <th>981962</th>\n",
              "      <td>packets_out</td>\n",
              "      <td>11</td>\n",
              "      <td>0.00</td>\n",
              "      <td>0.91</td>\n",
              "      <td>0.00</td>\n",
              "      <td>0.09</td>\n",
              "      <td>1.96</td>\n",
              "      <td>0</td>\n",
              "    </tr>\n",
              "    <tr>\n",
              "      <th>981963</th>\n",
              "      <td>nnuart1</td>\n",
              "      <td>7</td>\n",
              "      <td>0.00</td>\n",
              "      <td>0.86</td>\n",
              "      <td>0.14</td>\n",
              "      <td>0.00</td>\n",
              "      <td>1.42</td>\n",
              "      <td>0</td>\n",
              "    </tr>\n",
              "    <tr>\n",
              "      <th>981964</th>\n",
              "      <td>allnsystems</td>\n",
              "      <td>11</td>\n",
              "      <td>0.00</td>\n",
              "      <td>1.00</td>\n",
              "      <td>0.00</td>\n",
              "      <td>0.00</td>\n",
              "      <td>1.99</td>\n",
              "      <td>0</td>\n",
              "    </tr>\n",
              "  </tbody>\n",
              "</table>\n",
              "<p>981965 rows × 8 columns</p>\n",
              "</div>\n",
              "      <button class=\"colab-df-convert\" onclick=\"convertToInteractive('df-2fbebb12-f258-4909-bbfd-6d170b5cc62e')\"\n",
              "              title=\"Convert this dataframe to an interactive table.\"\n",
              "              style=\"display:none;\">\n",
              "        \n",
              "  <svg xmlns=\"http://www.w3.org/2000/svg\" height=\"24px\"viewBox=\"0 0 24 24\"\n",
              "       width=\"24px\">\n",
              "    <path d=\"M0 0h24v24H0V0z\" fill=\"none\"/>\n",
              "    <path d=\"M18.56 5.44l.94 2.06.94-2.06 2.06-.94-2.06-.94-.94-2.06-.94 2.06-2.06.94zm-11 1L8.5 8.5l.94-2.06 2.06-.94-2.06-.94L8.5 2.5l-.94 2.06-2.06.94zm10 10l.94 2.06.94-2.06 2.06-.94-2.06-.94-.94-2.06-.94 2.06-2.06.94z\"/><path d=\"M17.41 7.96l-1.37-1.37c-.4-.4-.92-.59-1.43-.59-.52 0-1.04.2-1.43.59L10.3 9.45l-7.72 7.72c-.78.78-.78 2.05 0 2.83L4 21.41c.39.39.9.59 1.41.59.51 0 1.02-.2 1.41-.59l7.78-7.78 2.81-2.81c.8-.78.8-2.07 0-2.86zM5.41 20L4 18.59l7.72-7.72 1.47 1.35L5.41 20z\"/>\n",
              "  </svg>\n",
              "      </button>\n",
              "      \n",
              "  <style>\n",
              "    .colab-df-container {\n",
              "      display:flex;\n",
              "      flex-wrap:wrap;\n",
              "      gap: 12px;\n",
              "    }\n",
              "\n",
              "    .colab-df-convert {\n",
              "      background-color: #E8F0FE;\n",
              "      border: none;\n",
              "      border-radius: 50%;\n",
              "      cursor: pointer;\n",
              "      display: none;\n",
              "      fill: #1967D2;\n",
              "      height: 32px;\n",
              "      padding: 0 0 0 0;\n",
              "      width: 32px;\n",
              "    }\n",
              "\n",
              "    .colab-df-convert:hover {\n",
              "      background-color: #E2EBFA;\n",
              "      box-shadow: 0px 1px 2px rgba(60, 64, 67, 0.3), 0px 1px 3px 1px rgba(60, 64, 67, 0.15);\n",
              "      fill: #174EA6;\n",
              "    }\n",
              "\n",
              "    [theme=dark] .colab-df-convert {\n",
              "      background-color: #3B4455;\n",
              "      fill: #D2E3FC;\n",
              "    }\n",
              "\n",
              "    [theme=dark] .colab-df-convert:hover {\n",
              "      background-color: #434B5C;\n",
              "      box-shadow: 0px 1px 3px 1px rgba(0, 0, 0, 0.15);\n",
              "      filter: drop-shadow(0px 1px 2px rgba(0, 0, 0, 0.3));\n",
              "      fill: #FFFFFF;\n",
              "    }\n",
              "  </style>\n",
              "\n",
              "      <script>\n",
              "        const buttonEl =\n",
              "          document.querySelector('#df-2fbebb12-f258-4909-bbfd-6d170b5cc62e button.colab-df-convert');\n",
              "        buttonEl.style.display =\n",
              "          google.colab.kernel.accessAllowed ? 'block' : 'none';\n",
              "\n",
              "        async function convertToInteractive(key) {\n",
              "          const element = document.querySelector('#df-2fbebb12-f258-4909-bbfd-6d170b5cc62e');\n",
              "          const dataTable =\n",
              "            await google.colab.kernel.invokeFunction('convertToInteractive',\n",
              "                                                     [key], {});\n",
              "          if (!dataTable) return;\n",
              "\n",
              "          const docLinkHtml = 'Like what you see? Visit the ' +\n",
              "            '<a target=\"_blank\" href=https://colab.research.google.com/notebooks/data_table.ipynb>data table notebook</a>'\n",
              "            + ' to learn more about interactive tables.';\n",
              "          element.innerHTML = '';\n",
              "          dataTable['output_type'] = 'display_data';\n",
              "          await google.colab.output.renderOutput(dataTable, element);\n",
              "          const docLink = document.createElement('div');\n",
              "          docLink.innerHTML = docLinkHtml;\n",
              "          element.appendChild(docLink);\n",
              "        }\n",
              "      </script>\n",
              "    </div>\n",
              "  </div>\n",
              "  "
            ]
          },
          "metadata": {},
          "execution_count": 191
        }
      ]
    },
    {
      "cell_type": "code",
      "source": [
        "a = '{//! [0]QSqlDatabase db = QSqlDatabase::addDatabase(\"QPSQL\") Teddy1 ;db.setHostName(\"acidalia\");db.setDatabaseName(\"customdb\");db.setUserName(\"mojito\");db.setPassword(\"\");bool ok = db.open();//! [0]Q_UNUSED(ok);}{//! [1]'\n",
        "context = tokenization(a)\n",
        "context"
      ],
      "metadata": {
        "colab": {
          "base_uri": "https://localhost:8080/"
        },
        "id": "98Ac72qsbQFV",
        "outputId": "d4d49777-4487-4748-ef23-d75399dd5b61"
      },
      "execution_count": 190,
      "outputs": [
        {
          "output_type": "execute_result",
          "data": {
            "text/plain": [
              "['QSqlDatabase',\n",
              " 'QSqlDatabase',\n",
              " 'addDatabase',\n",
              " 'QPSQL',\n",
              " 'Teddy1',\n",
              " 'db.setHostName',\n",
              " 'acidalia',\n",
              " 'db.setDatabaseName',\n",
              " 'customdb',\n",
              " 'db.setUserName',\n",
              " 'mojito',\n",
              " 'db.setPassword',\n",
              " 'bool',\n",
              " 'db.open',\n",
              " 'Q_UNUSED']"
            ]
          },
          "metadata": {},
          "execution_count": 190
        }
      ]
    },
    {
      "cell_type": "code",
      "source": [
        "Position_Determination(df)"
      ],
      "metadata": {
        "colab": {
          "base_uri": "https://localhost:8080/",
          "height": 81
        },
        "id": "VluOLcEfciaI",
        "outputId": "d9c27bc1-524f-4a02-d3a8-649ed592d4f2"
      },
      "execution_count": 189,
      "outputs": [
        {
          "output_type": "execute_result",
          "data": {
            "text/plain": [
              "                                                   0\n",
              "0  QSqlDatabase QSqlDatabase addDatabase QPSQL db..."
            ],
            "text/html": [
              "\n",
              "  <div id=\"df-79530362-85de-4731-a404-e57a8807c4e3\">\n",
              "    <div class=\"colab-df-container\">\n",
              "      <div>\n",
              "<style scoped>\n",
              "    .dataframe tbody tr th:only-of-type {\n",
              "        vertical-align: middle;\n",
              "    }\n",
              "\n",
              "    .dataframe tbody tr th {\n",
              "        vertical-align: top;\n",
              "    }\n",
              "\n",
              "    .dataframe thead th {\n",
              "        text-align: right;\n",
              "    }\n",
              "</style>\n",
              "<table border=\"1\" class=\"dataframe\">\n",
              "  <thead>\n",
              "    <tr style=\"text-align: right;\">\n",
              "      <th></th>\n",
              "      <th>0</th>\n",
              "    </tr>\n",
              "  </thead>\n",
              "  <tbody>\n",
              "    <tr>\n",
              "      <th>0</th>\n",
              "      <td>QSqlDatabase QSqlDatabase addDatabase QPSQL db...</td>\n",
              "    </tr>\n",
              "  </tbody>\n",
              "</table>\n",
              "</div>\n",
              "      <button class=\"colab-df-convert\" onclick=\"convertToInteractive('df-79530362-85de-4731-a404-e57a8807c4e3')\"\n",
              "              title=\"Convert this dataframe to an interactive table.\"\n",
              "              style=\"display:none;\">\n",
              "        \n",
              "  <svg xmlns=\"http://www.w3.org/2000/svg\" height=\"24px\"viewBox=\"0 0 24 24\"\n",
              "       width=\"24px\">\n",
              "    <path d=\"M0 0h24v24H0V0z\" fill=\"none\"/>\n",
              "    <path d=\"M18.56 5.44l.94 2.06.94-2.06 2.06-.94-2.06-.94-.94-2.06-.94 2.06-2.06.94zm-11 1L8.5 8.5l.94-2.06 2.06-.94-2.06-.94L8.5 2.5l-.94 2.06-2.06.94zm10 10l.94 2.06.94-2.06 2.06-.94-2.06-.94-.94-2.06-.94 2.06-2.06.94z\"/><path d=\"M17.41 7.96l-1.37-1.37c-.4-.4-.92-.59-1.43-.59-.52 0-1.04.2-1.43.59L10.3 9.45l-7.72 7.72c-.78.78-.78 2.05 0 2.83L4 21.41c.39.39.9.59 1.41.59.51 0 1.02-.2 1.41-.59l7.78-7.78 2.81-2.81c.8-.78.8-2.07 0-2.86zM5.41 20L4 18.59l7.72-7.72 1.47 1.35L5.41 20z\"/>\n",
              "  </svg>\n",
              "      </button>\n",
              "      \n",
              "  <style>\n",
              "    .colab-df-container {\n",
              "      display:flex;\n",
              "      flex-wrap:wrap;\n",
              "      gap: 12px;\n",
              "    }\n",
              "\n",
              "    .colab-df-convert {\n",
              "      background-color: #E8F0FE;\n",
              "      border: none;\n",
              "      border-radius: 50%;\n",
              "      cursor: pointer;\n",
              "      display: none;\n",
              "      fill: #1967D2;\n",
              "      height: 32px;\n",
              "      padding: 0 0 0 0;\n",
              "      width: 32px;\n",
              "    }\n",
              "\n",
              "    .colab-df-convert:hover {\n",
              "      background-color: #E2EBFA;\n",
              "      box-shadow: 0px 1px 2px rgba(60, 64, 67, 0.3), 0px 1px 3px 1px rgba(60, 64, 67, 0.15);\n",
              "      fill: #174EA6;\n",
              "    }\n",
              "\n",
              "    [theme=dark] .colab-df-convert {\n",
              "      background-color: #3B4455;\n",
              "      fill: #D2E3FC;\n",
              "    }\n",
              "\n",
              "    [theme=dark] .colab-df-convert:hover {\n",
              "      background-color: #434B5C;\n",
              "      box-shadow: 0px 1px 3px 1px rgba(0, 0, 0, 0.15);\n",
              "      filter: drop-shadow(0px 1px 2px rgba(0, 0, 0, 0.3));\n",
              "      fill: #FFFFFF;\n",
              "    }\n",
              "  </style>\n",
              "\n",
              "      <script>\n",
              "        const buttonEl =\n",
              "          document.querySelector('#df-79530362-85de-4731-a404-e57a8807c4e3 button.colab-df-convert');\n",
              "        buttonEl.style.display =\n",
              "          google.colab.kernel.accessAllowed ? 'block' : 'none';\n",
              "\n",
              "        async function convertToInteractive(key) {\n",
              "          const element = document.querySelector('#df-79530362-85de-4731-a404-e57a8807c4e3');\n",
              "          const dataTable =\n",
              "            await google.colab.kernel.invokeFunction('convertToInteractive',\n",
              "                                                     [key], {});\n",
              "          if (!dataTable) return;\n",
              "\n",
              "          const docLinkHtml = 'Like what you see? Visit the ' +\n",
              "            '<a target=\"_blank\" href=https://colab.research.google.com/notebooks/data_table.ipynb>data table notebook</a>'\n",
              "            + ' to learn more about interactive tables.';\n",
              "          element.innerHTML = '';\n",
              "          dataTable['output_type'] = 'display_data';\n",
              "          await google.colab.output.renderOutput(dataTable, element);\n",
              "          const docLink = document.createElement('div');\n",
              "          docLink.innerHTML = docLinkHtml;\n",
              "          element.appendChild(docLink);\n",
              "        }\n",
              "      </script>\n",
              "    </div>\n",
              "  </div>\n",
              "  "
            ]
          },
          "metadata": {},
          "execution_count": 189
        }
      ]
    }
  ]
}